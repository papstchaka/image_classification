{
 "cells": [
  {
   "cell_type": "code",
   "execution_count": 57,
   "metadata": {},
   "outputs": [
    {
     "name": "stdout",
     "output_type": "stream",
     "text": [
      "Creating training data batches...\n",
      "Creating validation data batches...\n",
      "TF version: 2.1.0\n",
      "TF Hub version: 0.8.0\n",
      "GPU not available\n",
      "Building model with: https://tfhub.dev/google/imagenet/mobilenet_v2_130_224/classification/4\n",
      "Train for 13 steps, validate for 4 steps\n",
      "Epoch 1/100\n",
      "13/13 [==============================] - 127s 10s/step - loss: 4.6051 - accuracy: 0.0712 - val_loss: 3.3743 - val_accuracy: 0.2625\n",
      "Epoch 2/100\n",
      "13/13 [==============================] - 135s 10s/step - loss: 2.1521 - accuracy: 0.5544 - val_loss: 1.9640 - val_accuracy: 0.5425\n",
      "Epoch 3/100\n",
      "13/13 [==============================] - 105s 8s/step - loss: 0.9902 - accuracy: 0.8219 - val_loss: 1.3239 - val_accuracy: 0.6700\n",
      "Epoch 4/100\n",
      "13/13 [==============================] - 94s 7s/step - loss: 0.5292 - accuracy: 0.9237 - val_loss: 1.0822 - val_accuracy: 0.7150\n",
      "Epoch 5/100\n",
      "13/13 [==============================] - 92s 7s/step - loss: 0.3273 - accuracy: 0.9694 - val_loss: 0.9727 - val_accuracy: 0.7425\n",
      "Epoch 6/100\n",
      "13/13 [==============================] - 91s 7s/step - loss: 0.2256 - accuracy: 0.9850 - val_loss: 0.9176 - val_accuracy: 0.7525\n",
      "Epoch 7/100\n",
      "13/13 [==============================] - 87s 7s/step - loss: 0.1677 - accuracy: 0.9937 - val_loss: 0.8795 - val_accuracy: 0.7625\n",
      "Epoch 8/100\n",
      "13/13 [==============================] - 94s 7s/step - loss: 0.1327 - accuracy: 0.9969 - val_loss: 0.8505 - val_accuracy: 0.7700\n",
      "Epoch 9/100\n",
      "13/13 [==============================] - 92s 7s/step - loss: 0.1089 - accuracy: 0.9994 - val_loss: 0.8390 - val_accuracy: 0.7700\n",
      "Epoch 10/100\n",
      "13/13 [==============================] - 88s 7s/step - loss: 0.0907 - accuracy: 0.9994 - val_loss: 0.8273 - val_accuracy: 0.7700\n",
      "Epoch 11/100\n",
      "13/13 [==============================] - 90s 7s/step - loss: 0.0768 - accuracy: 1.0000 - val_loss: 0.8192 - val_accuracy: 0.7675\n",
      "Saving model to: D:/Google Drive/colab_data/dog_vision/models/20200430-101542-101542.h5 ...\n"
     ]
    }
   ],
   "source": [
    "path = \"D:/Google Drive/colab_data/dog_vision\"\n",
    "\n",
    "# start tensorboard with `tensorboard --logdir='{path}/logs' --port 2222`\n",
    "\n",
    "from scripts.import_data import import_data\n",
    "from scripts.preprocessing import preprocessing\n",
    "from scripts.model import model\n",
    "from scripts.predict import predict\n",
    "\n",
    "i_d = import_data(path,2000)\n",
    "i_d.import_raw_data()\n",
    "i_d.get_raw_traindata()\n",
    "X_train, X_val, y_train, y_val = i_d.X_train, i_d.X_val, i_d.y_train, i_d.y_val\n",
    "\n",
    "p = preprocessing(i_d.unique_labels, BATCH_SIZE=128)\n",
    "train_data = p.create_data_batches(X_train,y_train)\n",
    "val_data = p.create_data_batches(X_val,y_val,valid_data=True)\n",
    "\n",
    "m = model(i_d.unique_labels, path)\n",
    "model = m.train_model(train_data, val_data)\n",
    "\n",
    "pre = predict(model, val_data, i_d.unique_labels)\n",
    "pre.check_predictions()"
   ]
  },
  {
   "cell_type": "code",
   "execution_count": null,
   "metadata": {},
   "outputs": [],
   "source": []
  }
 ],
 "metadata": {
  "kernelspec": {
   "display_name": "Python 3",
   "language": "python",
   "name": "python3"
  },
  "language_info": {
   "codemirror_mode": {
    "name": "ipython",
    "version": 3
   },
   "file_extension": ".py",
   "mimetype": "text/x-python",
   "name": "python",
   "nbconvert_exporter": "python",
   "pygments_lexer": "ipython3",
   "version": "3.6.5"
  }
 },
 "nbformat": 4,
 "nbformat_minor": 4
}
