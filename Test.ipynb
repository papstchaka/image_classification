{
 "cells": [
  {
   "cell_type": "code",
   "execution_count": 19,
   "metadata": {},
   "outputs": [
    {
     "name": "stdout",
     "output_type": "stream",
     "text": [
      "Creating training data batches...\n",
      "Creating validation data batches...\n"
     ]
    }
   ],
   "source": [
    "path = \"D:/Google Drive/colab_data/dog_vision\"\n",
    "\n",
    "# start tensorboard with `tensorboard --logdir='{path}/logs' --port 2222`\n",
    "\n",
    "from scripts.import_data import import_data\n",
    "from scripts.preprocessing import preprocessing\n",
    "from scripts.model import model\n",
    "\n",
    "i_d = import_data(path,2000)\n",
    "i_d.import_raw_data()\n",
    "i_d.get_raw_traindata()\n",
    "X_train, X_val, y_train, y_val = i_d.X_train, i_d.X_val, i_d.y_train, i_d.y_val\n",
    "\n",
    "p = preprocessing(i_d.unique_labels, BATCH_SIZE=128)\n",
    "train_data = p.create_data_batches(X_train,y_train)\n",
    "val_data = p.create_data_batches(X_val,y_val,valid_data=True)\n",
    "\n",
    "m = model(i_d.unique_labels, path)\n",
    "m.train_model(train_data, val_data)"
   ]
  },
  {
   "cell_type": "code",
   "execution_count": 54,
   "metadata": {},
   "outputs": [],
   "source": [
    "import scripts.predict\n",
    "from importlib import reload\n",
    "reload(scripts.predict)\n",
    "\n",
    "from scripts.predict import predict\n",
    "pre = predict()"
   ]
  },
  {
   "cell_type": "code",
   "execution_count": null,
   "metadata": {},
   "outputs": [],
   "source": []
  }
 ],
 "metadata": {
  "kernelspec": {
   "display_name": "Python 3",
   "language": "python",
   "name": "python3"
  },
  "language_info": {
   "codemirror_mode": {
    "name": "ipython",
    "version": 3
   },
   "file_extension": ".py",
   "mimetype": "text/x-python",
   "name": "python",
   "nbconvert_exporter": "python",
   "pygments_lexer": "ipython3",
   "version": "3.6.5"
  }
 },
 "nbformat": 4,
 "nbformat_minor": 4
}
