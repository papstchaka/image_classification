{
 "cells": [
  {
   "cell_type": "code",
   "execution_count": 19,
   "metadata": {},
   "outputs": [
    {
     "name": "stdout",
     "output_type": "stream",
     "text": [
      "Creating training data batches...\n",
      "Creating validation data batches...\n"
     ]
    }
   ],
   "source": [
    "path = \"D:/Google Drive/colab_data/dog_vision\"\n",
    "\n",
    "from scripts.import_data import import_data\n",
    "from scripts.preprocessing import preprocessing\n",
    "\n",
    "i_d = import_data(path,2000)\n",
    "i_d.import_raw_data()\n",
    "i_d.get_raw_traindata()\n",
    "X_train, X_val, y_train, y_val = i_d.X_train, i_d.X_val, i_d.y_train, i_d.y_val\n",
    "\n",
    "p = preprocessing(i_d.unique_labels, BATCH_SIZE=128)\n",
    "train_data = p.create_data_batches(X_train,y_train)\n",
    "val_data = p.create_data_batches(X_val,y_val,valid_data=True)"
   ]
  },
  {
   "cell_type": "code",
   "execution_count": 29,
   "metadata": {},
   "outputs": [
    {
     "name": "stdout",
     "output_type": "stream",
     "text": [
      "TF version: 2.1.0\n",
      "TF Hub version: 0.8.0\n",
      "GPU not available\n"
     ]
    }
   ],
   "source": [
    "import scripts.model\n",
    "from importlib import reload\n",
    "reload(scripts.model)\n",
    "\n",
    "from scripts.model import model\n",
    "m = model(i_d.unique_labels, path)"
   ]
  },
  {
   "cell_type": "code",
   "execution_count": null,
   "metadata": {},
   "outputs": [
    {
     "name": "stdout",
     "output_type": "stream",
     "text": [
      "Building model with: https://tfhub.dev/google/imagenet/mobilenet_v2_130_224/classification/4\n",
      "D:\\Google Drive\\colab_data\\dog_vision\\logs\\20200428-145835\n",
      "Train for 13 steps, validate for 4 steps\n",
      " 5/13 [==========>...................] - ETA: 1:10 - loss: 5.4911 - accuracy: 0.0125"
     ]
    }
   ],
   "source": [
    "m.train_model(train_data, val_data, 1)"
   ]
  },
  {
   "cell_type": "code",
   "execution_count": null,
   "metadata": {},
   "outputs": [],
   "source": []
  },
  {
   "cell_type": "code",
   "execution_count": null,
   "metadata": {},
   "outputs": [],
   "source": []
  }
 ],
 "metadata": {
  "kernelspec": {
   "display_name": "Python 3",
   "language": "python",
   "name": "python3"
  },
  "language_info": {
   "codemirror_mode": {
    "name": "ipython",
    "version": 3
   },
   "file_extension": ".py",
   "mimetype": "text/x-python",
   "name": "python",
   "nbconvert_exporter": "python",
   "pygments_lexer": "ipython3",
   "version": "3.6.5"
  }
 },
 "nbformat": 4,
 "nbformat_minor": 4
}
